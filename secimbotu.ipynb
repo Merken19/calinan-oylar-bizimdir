{
 "cells": [
  {
   "cell_type": "code",
   "execution_count": null,
   "id": "72d986d4",
   "metadata": {},
   "outputs": [
    {
     "name": "stderr",
     "output_type": "stream",
     "text": [
      "C:\\Users\\erene\\AppData\\Local\\Temp\\ipykernel_19276\\3586310373.py:11: DeprecationWarning: executable_path has been deprecated, please pass in a Service object\n",
      "  driver = webdriver.Chrome('./chromedriver')\n"
     ]
    },
    {
     "name": "stdout",
     "output_type": "stream",
     "text": [
      "Tayip: 85, Ince: 1, KK: 233, Ogan: 14, Toplam: 333\n",
      "ex\n",
      "ex\n",
      "ex\n",
      "ex\n",
      "ex\n",
      "ex\n",
      "ex\n",
      "ex\n",
      "ex\n",
      "ex\n",
      "ex\n",
      "ex\n",
      "ex\n"
     ]
    }
   ],
   "source": [
    "from selenium import webdriver\n",
    "from selenium.webdriver.common.keys import Keys\n",
    "from selenium.webdriver.common.by import By\n",
    "from selenium.webdriver.support.select import Select\n",
    "from selenium.webdriver.common.action_chains import ActionChains\n",
    "from selenium.webdriver.support.wait import WebDriverWait\n",
    "from time import sleep\n",
    "\n",
    "\n",
    "\n",
    "driver = webdriver.Chrome('./chromedriver')\n",
    "driver.get(\"https://tutanak.oyveotesi.org\")\n",
    "\n",
    "driver.find_element(By.CSS_SELECTOR, \"#input-0\").click()\n",
    "\n",
    "il = 1\n",
    "\n",
    "el = WebDriverWait(driver, timeout=10).until(lambda d: d.find_element(By.XPATH, f'/html[1]/body[1]/div[2]/div[1]/div[1]/div[1]/div[{il}]/div[2]/div[1]'))\n",
    "driver.find_element(By.XPATH, f'/html[1]/body[1]/div[2]/div[1]/div[1]/div[1]/div[{il}]/div[2]/div[1]').click() #ili sec\n",
    "\n",
    "\n",
    "\n",
    "#ILCE\n",
    "driver.find_element(By.CSS_SELECTOR, \"#input-3\").click()\n",
    "\n",
    "ilce = 3\n",
    "\n",
    "el = WebDriverWait(driver, timeout=10).until(lambda d: d.find_element(By.XPATH, f'/html[1]/body[1]/div[2]/div[1]/div[1]/div[1]/div[{ilce}]/div[2]/div[1]'))\n",
    "driver.find_element(By.XPATH, f'/html[1]/body[1]/div[2]/div[1]/div[1]/div[1]/div[{ilce}]/div[2]/div[1]').click()\n",
    "\n",
    "\n",
    "#MAHALLE\n",
    "driver.find_element(By.CSS_SELECTOR, \"#input-6\").click()\n",
    "\n",
    "mah = 8\n",
    "\n",
    "\n",
    "el = WebDriverWait(driver, timeout=10).until(lambda d: d.find_element(By.XPATH, f'/html[1]/body[1]/div[2]/div[1]/div[1]/div[1]/div[{mah}]/div[2]/div[1]'))\n",
    "driver.find_element(By.XPATH, f'/html[1]/body[1]/div[2]/div[1]/div[1]/div[1]/div[{mah}]/div[2]/div[1]').click() \n",
    "\n",
    "\n",
    "\n",
    "#OKUL\n",
    "\n",
    "\n",
    "driver.find_element(By.CSS_SELECTOR, \"#input-9\").click()\n",
    "\n",
    "okul = 1\n",
    "\n",
    "el = WebDriverWait(driver, timeout=10).until(lambda d: d.find_element(By.XPATH, f'/html[1]/body[1]/div[2]/div[1]/div[1]/div[1]/div[1]/div[2]/div[1]'))\n",
    "while((lambda d: d.find_element(By.XPATH, f'/html[1]/body[1]/div[2]/div[1]/div[1]/div[1]/div[1]/div[2]/div[1]'))):\n",
    "    \n",
    "    driver.find_element(By.XPATH, f'/html[1]/body[1]/div[2]/div[1]/div[1]/div[1]/div[{okul}]/div[2]/div[1]').click() \n",
    "\n",
    "    #SORGULA\n",
    "    driver.find_element(By.XPATH, \"/html[1]/body[1]/div[1]/div[1]/div[1]/main[1]/div[1]/div[1]/div[2]/button[1]\").click()\n",
    "    \n",
    "    #SORGU SONRASI\n",
    "    sira=1\n",
    "    sleep(1)\n",
    "    while((lambda d: d.find_element(By.XPATH, f'/html[1]/body[1]/div[1]/div[1]/div[1]/main[1]/div[1]/div[1]/div[3]/div[1]/div[1]/table[1]/tbody[1]/tr[1]/td[6]/div[1]/span[1]'))):\n",
    "        \n",
    "        try: #cumhurbaskanligi belgesi\n",
    "            driver.find_element(By.XPATH, f'/html[1]/body[1]/div[1]/div[1]/div[1]/main[1]/div[1]/div[1]/div[3]/div[1]/div[1]/table[1]/tbody[1]/tr[{sira}]/td[6]/div[1]/span[1]').click()\n",
    "            cb = WebDriverWait(driver, timeout=3).until(lambda d: d.find_element(By.XPATH, \"/html[1]/body[1]/div[2]/div[1]/div[2]/div[1]/div[3]/div[1]/img[1]\"))\n",
    "            \n",
    "            sira+=1\n",
    "            sleep(0.3)\n",
    "            elem = driver.find_elements(By.XPATH, '//input[@class=\"v-field__input\"]')\n",
    "            print(f'Tayip: {elem[0].get_attribute(\"value\")}, Ince: {elem[1].get_attribute(\"value\")}, KK: {elem[2].get_attribute(\"value\")}, Ogan: {elem[3].get_attribute(\"value\")}, Toplam: {elem[4].get_attribute(\"value\")}')\n",
    "                \n",
    "            driver.find_element(By.XPATH, \"/html[1]/body[1]/div[2]/div[1]/div[2]/div[1]/div[4]/button[1]/span[3]\").click()\n",
    "        except:\n",
    "            print(\"ex\")\n",
    "    \n",
    "    okul+=1\n",
    "    driver.find_element(By.CSS_SELECTOR, \"#input-9\").click()\n",
    "\n"
   ]
  },
  {
   "cell_type": "code",
   "execution_count": null,
   "id": "95830c1c",
   "metadata": {},
   "outputs": [],
   "source": []
  },
  {
   "cell_type": "code",
   "execution_count": null,
   "id": "35c33291",
   "metadata": {},
   "outputs": [],
   "source": []
  }
 ],
 "metadata": {
  "kernelspec": {
   "display_name": "Python 3 (ipykernel)",
   "language": "python",
   "name": "python3"
  },
  "language_info": {
   "codemirror_mode": {
    "name": "ipython",
    "version": 3
   },
   "file_extension": ".py",
   "mimetype": "text/x-python",
   "name": "python",
   "nbconvert_exporter": "python",
   "pygments_lexer": "ipython3",
   "version": "3.9.12"
  }
 },
 "nbformat": 4,
 "nbformat_minor": 5
}
